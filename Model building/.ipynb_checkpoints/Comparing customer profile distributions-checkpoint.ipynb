{
 "cells": [
  {
   "cell_type": "code",
   "execution_count": 1,
   "metadata": {},
   "outputs": [],
   "source": [
    "import pandas as pd\n",
    "from pandas_profiling import ProfileReport\n"
   ]
  },
  {
   "cell_type": "code",
   "execution_count": 2,
   "metadata": {},
   "outputs": [
    {
     "name": "stdout",
     "output_type": "stream",
     "text": [
      "(2535, 271)\n"
     ]
    }
   ],
   "source": [
    "\n",
    "customer_profile_2018 = \"../Create Database/profile 2018/customer profile.csv\"\n",
    "df_customer_profile_2018 = pd.read_csv(customer_profile_2018, \n",
    "                                       sep = \";\")\n",
    "\n",
    "print(df_customer_profile_2018.shape)\n",
    "print(df_customer_profile_2019.shape)\n",
    "customer_profile_2019 = \"../Create Database/profile 2019/customer profile.csv\"\n",
    "df_customer_profile_2019 = pd.read_csv(customer_profile_2019, \n",
    "                                       sep = \";\")\n",
    "\n",
    "\n"
   ]
  },
  {
   "cell_type": "code",
   "execution_count": null,
   "metadata": {},
   "outputs": [],
   "source": [
    "\n",
    "\n",
    "profile = ProfileReport(df_customer_profile_2018, title='2018 customers', \n",
    "                        explorative=False)\n"
   ]
  }
 ],
 "metadata": {
  "kernelspec": {
   "display_name": "Python 3",
   "language": "python",
   "name": "python3"
  },
  "language_info": {
   "codemirror_mode": {
    "name": "ipython",
    "version": 3
   },
   "file_extension": ".py",
   "mimetype": "text/x-python",
   "name": "python",
   "nbconvert_exporter": "python",
   "pygments_lexer": "ipython3",
   "version": "3.7.6"
  }
 },
 "nbformat": 4,
 "nbformat_minor": 4
}
